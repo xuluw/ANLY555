{
 "cells": [
  {
   "attachments": {},
   "cell_type": "markdown",
   "metadata": {},
   "source": [
    "# Matrix Class\n",
    "- Implement a Matrix class that allows for matrix addition and multiplication. Make reasonable and appropriate design decisions and justify them in comments or in the discussion board. (If addition and multiplication are undefined, then throw an exception.)\n",
    "    - You will implement operator overloading so that the '+' and '*' symbols can be used."
   ]
  },
  {
   "cell_type": "code",
   "execution_count": 1,
   "metadata": {},
   "outputs": [
    {
     "name": "stdout",
     "output_type": "stream",
     "text": [
      "Matrix M1:\n",
      "[0, 1, 1]\n",
      "[1, 1, 5]\n",
      "[1, 1, 1]\n",
      "Matrix M2:\n",
      "[7, 0, 0]\n",
      "[0, 3, 0]\n",
      "[0, 0, 0]\n",
      "M1+M2=\n",
      "[7, 1, 1]\n",
      "[1, 4, 5]\n",
      "[1, 1, 1]\n",
      "M1*M2=\n",
      "[0, 3, 0]\n",
      "[7, 3, 0]\n",
      "[7, 3, 0]\n"
     ]
    }
   ],
   "source": [
    "class Matrix():\n",
    "    \"\"\" Represent a matrix \"\"\"\n",
    "\n",
    "    def __init__(self, ncols, mrows=1, fill_value=0):\n",
    "        \"\"\" Initialize the matrix with a certain value according to the specified dimensions.\n",
    "\n",
    "            mrows: the number of rows of the matrix, the default is 1 (vector)\n",
    "            ncols: the number of columns of the matrix\n",
    "            fill_value: the certain number used to fill the matrix, the default is 0\n",
    "        \"\"\"\n",
    "        self._rows = [[fill_value] * ncols for _ in range(mrows)]    # Reference: https://codereview.stackexchange.com/questions/206577/basic-beginners-matrix-class-in-python\n",
    "        self._mrows = mrows\n",
    "        self._ncols = ncols\n",
    "\n",
    "    def __len__(self):\n",
    "        \"\"\" Return the dimension of the matrix in the form of a tuple\"\"\"\n",
    "        return (self._mrows, self._ncols)\n",
    "\n",
    "    def __setitem__(self, index, val):\n",
    "        \"\"\" Set a certain coordinate of matrix to given value.\n",
    "            \n",
    "            index: Parameter is accepted in the form of tuple or int. If tuple, index[0] -> the index of row;  index[1] -> the index of column\n",
    "            val: the given value\n",
    "        \"\"\"\n",
    "        if isinstance(index, int):\n",
    "            self._rows[0][index] = val\n",
    "        elif isinstance(index, tuple):\n",
    "            if (index[0]>self._mrows-1) | (index[1]>self._ncols-1):\n",
    "                raise IndexError('List index out of range')\n",
    "            self._rows[index[0]][index[1]] = val\n",
    "\n",
    "    def __str__(self):\n",
    "        \"\"\" Produce string representation of vector. \"\"\"\n",
    "        return '\\n'.join('{}'.format(item) for item in self._rows)      # Print each item in self._rows and seperate them with '\\n'\n",
    "        \n",
    "    def __add__(self, other):\n",
    "        \"\"\" Return the sum of two matrices \"\"\"\n",
    "        if self.__len__() != other.__len__():       # Compare the shape of matrices\n",
    "            raise ValueError('Shape mismatch. Dimension should agree.')\n",
    "        result = [[0] * self._ncols for _ in range(self._mrows)]        # Initialize the zero matrix in the shape of (self._mrows, other._ncols) as the result \n",
    "        for m in range(self._mrows):\n",
    "            for n in range(self._ncols):\n",
    "                result[m][n] = self._rows[m][n] + other._rows[m][n]\n",
    "        formatted_result = '\\n'.join('{}'.format(item) for item in result)\n",
    "        return formatted_result\n",
    "        \n",
    "    def __mul__(self, other):\n",
    "        \"\"\" Return the multiplication of two matrices\"\"\"\n",
    "        if ~(self._mrows==1 & other._mrows==1) & (self._ncols != other._mrows):\n",
    "            raise ValueError('Shape mismatch. The number of columns of the former needs to be the same as the number of rows of the later.')\n",
    "        result = [[0] * other._ncols for _ in range(self._mrows)]\n",
    "        for m in range(self._mrows):\n",
    "            for n in range(other._ncols):\n",
    "                for k in range(self._ncols):\n",
    "                    result[m][n] += self._rows[m][k] * other._rows[k][n]\n",
    "        formatted_result = '\\n'.join('{}'.format(item) for item in result)\n",
    "        return formatted_result\n",
    "\n",
    "\n",
    "if __name__=='__main__':\n",
    "    # Create two matrix\n",
    "    M1 = Matrix(3,3,1)      # construct a 3x3 matrix with filled value 1\n",
    "    M1[0,0]=0               # via __setitem__\n",
    "    M1[1,2]=5               # via __setitem__\n",
    "    print('Matrix M1:', M1, sep='\\n')       # print [[0,1,1],\n",
    "                                            #        [1,1,5],\n",
    "                                            #        [1,1,1]]\n",
    "    M2 = Matrix(3,3,0)      # construct a 3x3 matrix with filled value 0\n",
    "    M2[0,0]=7\n",
    "    M2[1,1]=3\n",
    "    print('Matrix M2:', M2, sep='\\n')       # print [[7,0,0],\n",
    "                                            #        [0,3,0],\n",
    "                                            #        [0,0,0]]\n",
    "    \n",
    "    # Calculate the sum of the two matrices\n",
    "    sum = M1+M2             # via __add__\n",
    "    print('M1+M2=', sum, sep='\\n')          # print [[7,1,1],\n",
    "                                            #        [1,4,5],\n",
    "                                            #        [1,1,1]]\n",
    "\n",
    "    # Calculate the multiplication of the two matrices\n",
    "    multip = M1*M2          # via __mul__\n",
    "    print('M1*M2=', multip, sep='\\n')       # print [[0,3,0],\n",
    "                                            #        [7,3,0],\n",
    "                                            #        [7,3,0]]\n",
    "\n",
    "\n"
   ]
  },
  {
   "attachments": {},
   "cell_type": "markdown",
   "metadata": {},
   "source": [
    "### Throw exception applied to both addition and multiplication when the shapes of matrices mismatch"
   ]
  },
  {
   "cell_type": "code",
   "execution_count": 2,
   "metadata": {},
   "outputs": [
    {
     "name": "stdout",
     "output_type": "stream",
     "text": [
      "Matrix M1:\n",
      "[0, 1]\n",
      "[1, 5]\n",
      "[1, 1]\n",
      "Matrix M2:\n",
      "[7, 0, 0]\n",
      "[0, 3, 0]\n",
      "[0, 0, 0]\n"
     ]
    },
    {
     "ename": "ValueError",
     "evalue": "Shape mismatch. Dimension should agree.",
     "output_type": "error",
     "traceback": [
      "\u001b[1;31m---------------------------------------------------------------------------\u001b[0m",
      "\u001b[1;31mValueError\u001b[0m                                Traceback (most recent call last)",
      "\u001b[1;32md:\\A_myDocuments\\GU-DSAN\\2_Spring1\\ANLY555\\myCodes\\Module2\\Discussion2.ipynb Cell 4\u001b[0m in \u001b[0;36m<cell line: 1>\u001b[1;34m()\u001b[0m\n\u001b[0;32m     <a href='vscode-notebook-cell:/d%3A/A_myDocuments/GU-DSAN/2_Spring1/ANLY555/myCodes/Module2/Discussion2.ipynb#W5sZmlsZQ%3D%3D?line=11'>12</a>\u001b[0m \u001b[39mprint\u001b[39m(\u001b[39m'\u001b[39m\u001b[39mMatrix M2:\u001b[39m\u001b[39m'\u001b[39m, M2, sep\u001b[39m=\u001b[39m\u001b[39m'\u001b[39m\u001b[39m\\n\u001b[39;00m\u001b[39m'\u001b[39m)       \u001b[39m# print [[7,0,0],\u001b[39;00m\n\u001b[0;32m     <a href='vscode-notebook-cell:/d%3A/A_myDocuments/GU-DSAN/2_Spring1/ANLY555/myCodes/Module2/Discussion2.ipynb#W5sZmlsZQ%3D%3D?line=12'>13</a>\u001b[0m                                         \u001b[39m#        [0,3,0],\u001b[39;00m\n\u001b[0;32m     <a href='vscode-notebook-cell:/d%3A/A_myDocuments/GU-DSAN/2_Spring1/ANLY555/myCodes/Module2/Discussion2.ipynb#W5sZmlsZQ%3D%3D?line=13'>14</a>\u001b[0m                                         \u001b[39m#        [0,0,0]]\u001b[39;00m\n\u001b[0;32m     <a href='vscode-notebook-cell:/d%3A/A_myDocuments/GU-DSAN/2_Spring1/ANLY555/myCodes/Module2/Discussion2.ipynb#W5sZmlsZQ%3D%3D?line=14'>15</a>\u001b[0m \n\u001b[0;32m     <a href='vscode-notebook-cell:/d%3A/A_myDocuments/GU-DSAN/2_Spring1/ANLY555/myCodes/Module2/Discussion2.ipynb#W5sZmlsZQ%3D%3D?line=15'>16</a>\u001b[0m \u001b[39m# Calculate the sum of the two matrices\u001b[39;00m\n\u001b[0;32m     <a href='vscode-notebook-cell:/d%3A/A_myDocuments/GU-DSAN/2_Spring1/ANLY555/myCodes/Module2/Discussion2.ipynb#W5sZmlsZQ%3D%3D?line=16'>17</a>\u001b[0m \u001b[39m# Here an error should be thrown due to size mismatch\u001b[39;00m\n\u001b[1;32m---> <a href='vscode-notebook-cell:/d%3A/A_myDocuments/GU-DSAN/2_Spring1/ANLY555/myCodes/Module2/Discussion2.ipynb#W5sZmlsZQ%3D%3D?line=17'>18</a>\u001b[0m \u001b[39msum\u001b[39m \u001b[39m=\u001b[39m M1\u001b[39m+\u001b[39;49mM2             \u001b[39m# via __add__\u001b[39;00m\n\u001b[0;32m     <a href='vscode-notebook-cell:/d%3A/A_myDocuments/GU-DSAN/2_Spring1/ANLY555/myCodes/Module2/Discussion2.ipynb#W5sZmlsZQ%3D%3D?line=18'>19</a>\u001b[0m \u001b[39mprint\u001b[39m(\u001b[39m'\u001b[39m\u001b[39mM1+M2=\u001b[39m\u001b[39m'\u001b[39m, \u001b[39msum\u001b[39m, sep\u001b[39m=\u001b[39m\u001b[39m'\u001b[39m\u001b[39m\\n\u001b[39;00m\u001b[39m'\u001b[39m)\n",
      "\u001b[1;32md:\\A_myDocuments\\GU-DSAN\\2_Spring1\\ANLY555\\myCodes\\Module2\\Discussion2.ipynb Cell 4\u001b[0m in \u001b[0;36mMatrix.__add__\u001b[1;34m(self, other)\u001b[0m\n\u001b[0;32m     <a href='vscode-notebook-cell:/d%3A/A_myDocuments/GU-DSAN/2_Spring1/ANLY555/myCodes/Module2/Discussion2.ipynb#W5sZmlsZQ%3D%3D?line=36'>37</a>\u001b[0m \u001b[39m\"\"\" Return the sum of two matrices \"\"\"\u001b[39;00m\n\u001b[0;32m     <a href='vscode-notebook-cell:/d%3A/A_myDocuments/GU-DSAN/2_Spring1/ANLY555/myCodes/Module2/Discussion2.ipynb#W5sZmlsZQ%3D%3D?line=37'>38</a>\u001b[0m \u001b[39mif\u001b[39;00m \u001b[39mself\u001b[39m\u001b[39m.\u001b[39m\u001b[39m__len__\u001b[39m() \u001b[39m!=\u001b[39m other\u001b[39m.\u001b[39m\u001b[39m__len__\u001b[39m():       \u001b[39m# Compare the shape of matrices\u001b[39;00m\n\u001b[1;32m---> <a href='vscode-notebook-cell:/d%3A/A_myDocuments/GU-DSAN/2_Spring1/ANLY555/myCodes/Module2/Discussion2.ipynb#W5sZmlsZQ%3D%3D?line=38'>39</a>\u001b[0m     \u001b[39mraise\u001b[39;00m \u001b[39mValueError\u001b[39;00m(\u001b[39m'\u001b[39m\u001b[39mShape mismatch. Dimension should agree.\u001b[39m\u001b[39m'\u001b[39m)\n\u001b[0;32m     <a href='vscode-notebook-cell:/d%3A/A_myDocuments/GU-DSAN/2_Spring1/ANLY555/myCodes/Module2/Discussion2.ipynb#W5sZmlsZQ%3D%3D?line=39'>40</a>\u001b[0m result \u001b[39m=\u001b[39m [[\u001b[39m0\u001b[39m] \u001b[39m*\u001b[39m \u001b[39mself\u001b[39m\u001b[39m.\u001b[39m_ncols \u001b[39mfor\u001b[39;00m _ \u001b[39min\u001b[39;00m \u001b[39mrange\u001b[39m(\u001b[39mself\u001b[39m\u001b[39m.\u001b[39m_mrows)]        \u001b[39m# Initialize the zero matrix in the shape of (self._mrows, other._ncols) as the result \u001b[39;00m\n\u001b[0;32m     <a href='vscode-notebook-cell:/d%3A/A_myDocuments/GU-DSAN/2_Spring1/ANLY555/myCodes/Module2/Discussion2.ipynb#W5sZmlsZQ%3D%3D?line=40'>41</a>\u001b[0m \u001b[39mfor\u001b[39;00m m \u001b[39min\u001b[39;00m \u001b[39mrange\u001b[39m(\u001b[39mself\u001b[39m\u001b[39m.\u001b[39m_mrows):\n",
      "\u001b[1;31mValueError\u001b[0m: Shape mismatch. Dimension should agree."
     ]
    }
   ],
   "source": [
    "if __name__=='__main__':\n",
    "    # Create two matrix\n",
    "    M1 = Matrix(2,3,1)      # construct a 3x2 matrix with filled value 1\n",
    "    M1[0,0]=0               # via __setitem__\n",
    "    M1[1,1]=5               # via __setitem__\n",
    "    print('Matrix M1:', M1, sep='\\n')       # print [[0,1],\n",
    "                                            #        [1,5],\n",
    "                                            #        [1,1]]\n",
    "    M2 = Matrix(3,3,0)      # construct a 3x3 matrix with filled value 0\n",
    "    M2[0,0]=7\n",
    "    M2[1,1]=3\n",
    "    print('Matrix M2:', M2, sep='\\n')       # print [[7,0,0],\n",
    "                                            #        [0,3,0],\n",
    "                                            #        [0,0,0]]\n",
    "    \n",
    "    # Calculate the sum of the two matrices\n",
    "    # Here an error should be thrown due to size mismatch\n",
    "    sum = M1+M2             # via __add__\n",
    "    print('M1+M2=', sum, sep='\\n')"
   ]
  },
  {
   "cell_type": "code",
   "execution_count": 3,
   "metadata": {},
   "outputs": [
    {
     "ename": "ValueError",
     "evalue": "Shape mismatch. The number of columns of the former needs to be the same as the number of rows of the later.",
     "output_type": "error",
     "traceback": [
      "\u001b[1;31m---------------------------------------------------------------------------\u001b[0m",
      "\u001b[1;31mValueError\u001b[0m                                Traceback (most recent call last)",
      "\u001b[1;32md:\\A_myDocuments\\GU-DSAN\\2_Spring1\\ANLY555\\myCodes\\Module2\\Discussion2.ipynb Cell 5\u001b[0m in \u001b[0;36m<cell line: 3>\u001b[1;34m()\u001b[0m\n\u001b[0;32m      <a href='vscode-notebook-cell:/d%3A/A_myDocuments/GU-DSAN/2_Spring1/ANLY555/myCodes/Module2/Discussion2.ipynb#X13sZmlsZQ%3D%3D?line=0'>1</a>\u001b[0m \u001b[39m# Calculate the multiplication of the two matrices\u001b[39;00m\n\u001b[0;32m      <a href='vscode-notebook-cell:/d%3A/A_myDocuments/GU-DSAN/2_Spring1/ANLY555/myCodes/Module2/Discussion2.ipynb#X13sZmlsZQ%3D%3D?line=1'>2</a>\u001b[0m \u001b[39m# Here an error should be thrown due to size mismatch\u001b[39;00m\n\u001b[1;32m----> <a href='vscode-notebook-cell:/d%3A/A_myDocuments/GU-DSAN/2_Spring1/ANLY555/myCodes/Module2/Discussion2.ipynb#X13sZmlsZQ%3D%3D?line=2'>3</a>\u001b[0m multip \u001b[39m=\u001b[39m M1\u001b[39m*\u001b[39;49mM2          \u001b[39m# via __mul__\u001b[39;00m\n\u001b[0;32m      <a href='vscode-notebook-cell:/d%3A/A_myDocuments/GU-DSAN/2_Spring1/ANLY555/myCodes/Module2/Discussion2.ipynb#X13sZmlsZQ%3D%3D?line=3'>4</a>\u001b[0m \u001b[39mprint\u001b[39m(\u001b[39m'\u001b[39m\u001b[39mM1*M2=\u001b[39m\u001b[39m'\u001b[39m, multip, sep\u001b[39m=\u001b[39m\u001b[39m'\u001b[39m\u001b[39m\\n\u001b[39;00m\u001b[39m'\u001b[39m)\n",
      "\u001b[1;32md:\\A_myDocuments\\GU-DSAN\\2_Spring1\\ANLY555\\myCodes\\Module2\\Discussion2.ipynb Cell 5\u001b[0m in \u001b[0;36mMatrix.__mul__\u001b[1;34m(self, other)\u001b[0m\n\u001b[0;32m     <a href='vscode-notebook-cell:/d%3A/A_myDocuments/GU-DSAN/2_Spring1/ANLY555/myCodes/Module2/Discussion2.ipynb#X13sZmlsZQ%3D%3D?line=47'>48</a>\u001b[0m \u001b[39m\"\"\" Return the multiplication of two matrices\"\"\"\u001b[39;00m\n\u001b[0;32m     <a href='vscode-notebook-cell:/d%3A/A_myDocuments/GU-DSAN/2_Spring1/ANLY555/myCodes/Module2/Discussion2.ipynb#X13sZmlsZQ%3D%3D?line=48'>49</a>\u001b[0m \u001b[39mif\u001b[39;00m \u001b[39m~\u001b[39m(\u001b[39mself\u001b[39m\u001b[39m.\u001b[39m_mrows\u001b[39m==\u001b[39m\u001b[39m1\u001b[39m \u001b[39m&\u001b[39m other\u001b[39m.\u001b[39m_mrows\u001b[39m==\u001b[39m\u001b[39m1\u001b[39m) \u001b[39m&\u001b[39m (\u001b[39mself\u001b[39m\u001b[39m.\u001b[39m_ncols \u001b[39m!=\u001b[39m other\u001b[39m.\u001b[39m_mrows):\n\u001b[1;32m---> <a href='vscode-notebook-cell:/d%3A/A_myDocuments/GU-DSAN/2_Spring1/ANLY555/myCodes/Module2/Discussion2.ipynb#X13sZmlsZQ%3D%3D?line=49'>50</a>\u001b[0m     \u001b[39mraise\u001b[39;00m \u001b[39mValueError\u001b[39;00m(\u001b[39m'\u001b[39m\u001b[39mShape mismatch. The number of columns of the former needs to be the same as the number of rows of the later.\u001b[39m\u001b[39m'\u001b[39m)\n\u001b[0;32m     <a href='vscode-notebook-cell:/d%3A/A_myDocuments/GU-DSAN/2_Spring1/ANLY555/myCodes/Module2/Discussion2.ipynb#X13sZmlsZQ%3D%3D?line=50'>51</a>\u001b[0m result \u001b[39m=\u001b[39m [[\u001b[39m0\u001b[39m] \u001b[39m*\u001b[39m other\u001b[39m.\u001b[39m_ncols \u001b[39mfor\u001b[39;00m _ \u001b[39min\u001b[39;00m \u001b[39mrange\u001b[39m(\u001b[39mself\u001b[39m\u001b[39m.\u001b[39m_mrows)]\n\u001b[0;32m     <a href='vscode-notebook-cell:/d%3A/A_myDocuments/GU-DSAN/2_Spring1/ANLY555/myCodes/Module2/Discussion2.ipynb#X13sZmlsZQ%3D%3D?line=51'>52</a>\u001b[0m \u001b[39mfor\u001b[39;00m m \u001b[39min\u001b[39;00m \u001b[39mrange\u001b[39m(\u001b[39mself\u001b[39m\u001b[39m.\u001b[39m_mrows):\n",
      "\u001b[1;31mValueError\u001b[0m: Shape mismatch. The number of columns of the former needs to be the same as the number of rows of the later."
     ]
    }
   ],
   "source": [
    "# Calculate the multiplication of the two matrices\n",
    "# Here an error should be thrown due to size mismatch\n",
    "multip = M1*M2          # via __mul__\n",
    "print('M1*M2=', multip, sep='\\n')"
   ]
  },
  {
   "attachments": {},
   "cell_type": "markdown",
   "metadata": {},
   "source": [
    "# Vector Class\n",
    "- Implement a Vector class that inherets from the Matrix class. It will inheret addition and multiplication (inner product) but will also have a multiplication method for an outer product (choose an intuitive symbol). (If addition and multiplication are undefined due to size mismatch, then throw an exception.)"
   ]
  },
  {
   "cell_type": "code",
   "execution_count": 4,
   "metadata": {},
   "outputs": [
    {
     "name": "stdout",
     "output_type": "stream",
     "text": [
      "Vector v1:\t [1, 0, 0, 2]\n",
      "Vector v2:\t [3, 0, 1, 1]\n",
      "v1 + v2 =\t [4, 0, 1, 3]\n",
      "v1 * v2 =\t 5\n",
      "The outer product =\n",
      "[3, 0, 1, 1]\n",
      "[0, 0, 0, 0]\n",
      "[0, 0, 0, 0]\n",
      "[6, 0, 2, 2]\n"
     ]
    }
   ],
   "source": [
    "class Vector(Matrix):\n",
    "    \"\"\" Represent a vector \"\"\"\n",
    "\n",
    "    def __init__(self, ncols, mrows=1, fill_value=0):\n",
    "        super().__init__(ncols, mrows, fill_value)\n",
    "\n",
    "    def __mul__(self, other):\n",
    "        \"\"\" Return multiplication (inner product) of two vectors. \n",
    "            Override the inherited __mul__ in class Matrix\n",
    "        \"\"\"\n",
    "        if self.__len__() != other.__len__():\n",
    "            raise ValueError('Dimensions must agree.')\n",
    "        result = 0\n",
    "        for j in range(self.__len__()[1]):\n",
    "            result += self._rows[0][j] * other._rows[0][j]\n",
    "        return result\n",
    "\n",
    "    def __pow__(self, other):\n",
    "        \"\"\" Return outer product of two vectors. \n",
    "            Here the original exponential operation is replaced by the outer product operation.\n",
    "        \"\"\"\n",
    "        result = [[0] * other._ncols for _ in range(self._ncols)]\n",
    "        for m in range(self._ncols):\n",
    "            for n in range(other._ncols):\n",
    "                result[m][n] = self._rows[0][m] * other._rows[0][n]\n",
    "        formatted_result = '\\n'.join('{}'.format(item) for item in result)\n",
    "        return formatted_result\n",
    "\n",
    "\n",
    "if __name__ == '__main__':\n",
    "    # Create two vectors\n",
    "    v1 = Vector(4)      # construct four-dimensional vector with filled value 0: <0, 0, 0, 0>\n",
    "    v1[0]=1             # <1, 0, 0, 0> (based on use of __setitem__)\n",
    "    v1[3]=2             # <1, 0, 0, 2> (based on use of __setitem__)\n",
    "    print('Vector v1:\\t', v1)   # print <1, 0, 0, 2>\n",
    "\n",
    "    v2 = Vector(4,fill_value=1)     # construct four-dimensional vector with filled value 1: <1, 1, 1, 1>\n",
    "    v2[0]=3                         # <3, 1, 1, 1> (based on use of __setitem__)\n",
    "    v2[1]=0                         # <3, 0, 1, 1> (based on use of __setitem__)\n",
    "    print('Vector v2:\\t', v2)       # print <3, 0, 1, 1>\n",
    "\n",
    "    # Calculate the sum of the two vectors\n",
    "    sum = v1+v2                     # <4, 0, 1, 3> (via __add__)\n",
    "    print('v1 + v2 =\\t', sum)\n",
    "    \n",
    "    # Calculate the multiplication (inner product) of the two vectors\n",
    "    multip = v1*v2                  # 5 (via __mul__)\n",
    "    print('v1 * v2 =\\t', multip)\n",
    "\n",
    "    # Calculate the outer product of the two vectors\n",
    "    outer_product = v1 ** v2        # (via __pow__)\n",
    "    print('The outer product =\\n', outer_product, sep='')\n",
    "\n",
    "    "
   ]
  },
  {
   "attachments": {},
   "cell_type": "markdown",
   "metadata": {},
   "source": [
    "### Throw exception applied to addition and inner product when the shapes of vectors mismatch"
   ]
  },
  {
   "cell_type": "code",
   "execution_count": 5,
   "metadata": {},
   "outputs": [
    {
     "name": "stdout",
     "output_type": "stream",
     "text": [
      "Vector v1:\t [1, 0, 2]\n",
      "Vector v2:\t [3, 0, 1, 1]\n",
      "The outer product =\n",
      "[3, 0, 1, 1]\n",
      "[0, 0, 0, 0]\n",
      "[6, 0, 2, 2]\n"
     ]
    },
    {
     "ename": "ValueError",
     "evalue": "Shape mismatch. Dimension should agree.",
     "output_type": "error",
     "traceback": [
      "\u001b[1;31m---------------------------------------------------------------------------\u001b[0m",
      "\u001b[1;31mValueError\u001b[0m                                Traceback (most recent call last)",
      "\u001b[1;32md:\\A_myDocuments\\GU-DSAN\\2_Spring1\\ANLY555\\myCodes\\Module2\\Discussion2.ipynb Cell 9\u001b[0m in \u001b[0;36m<cell line: 1>\u001b[1;34m()\u001b[0m\n\u001b[0;32m     <a href='vscode-notebook-cell:/d%3A/A_myDocuments/GU-DSAN/2_Spring1/ANLY555/myCodes/Module2/Discussion2.ipynb#W4sZmlsZQ%3D%3D?line=14'>15</a>\u001b[0m \u001b[39mprint\u001b[39m(\u001b[39m'\u001b[39m\u001b[39mThe outer product =\u001b[39m\u001b[39m\\n\u001b[39;00m\u001b[39m'\u001b[39m, outer_product, sep\u001b[39m=\u001b[39m\u001b[39m'\u001b[39m\u001b[39m'\u001b[39m)\n\u001b[0;32m     <a href='vscode-notebook-cell:/d%3A/A_myDocuments/GU-DSAN/2_Spring1/ANLY555/myCodes/Module2/Discussion2.ipynb#W4sZmlsZQ%3D%3D?line=16'>17</a>\u001b[0m \u001b[39m# Calculate the sum of the two vectors\u001b[39;00m\n\u001b[0;32m     <a href='vscode-notebook-cell:/d%3A/A_myDocuments/GU-DSAN/2_Spring1/ANLY555/myCodes/Module2/Discussion2.ipynb#W4sZmlsZQ%3D%3D?line=17'>18</a>\u001b[0m \u001b[39m# Here an error should be thrown due to size mismatch\u001b[39;00m\n\u001b[1;32m---> <a href='vscode-notebook-cell:/d%3A/A_myDocuments/GU-DSAN/2_Spring1/ANLY555/myCodes/Module2/Discussion2.ipynb#W4sZmlsZQ%3D%3D?line=18'>19</a>\u001b[0m \u001b[39msum\u001b[39m \u001b[39m=\u001b[39m v1\u001b[39m+\u001b[39;49mv2\n\u001b[0;32m     <a href='vscode-notebook-cell:/d%3A/A_myDocuments/GU-DSAN/2_Spring1/ANLY555/myCodes/Module2/Discussion2.ipynb#W4sZmlsZQ%3D%3D?line=19'>20</a>\u001b[0m \u001b[39mprint\u001b[39m(\u001b[39m'\u001b[39m\u001b[39mv1 + v2 =\u001b[39m\u001b[39m\\t\u001b[39;00m\u001b[39m'\u001b[39m, \u001b[39msum\u001b[39m)\n",
      "\u001b[1;32md:\\A_myDocuments\\GU-DSAN\\2_Spring1\\ANLY555\\myCodes\\Module2\\Discussion2.ipynb Cell 9\u001b[0m in \u001b[0;36mMatrix.__add__\u001b[1;34m(self, other)\u001b[0m\n\u001b[0;32m     <a href='vscode-notebook-cell:/d%3A/A_myDocuments/GU-DSAN/2_Spring1/ANLY555/myCodes/Module2/Discussion2.ipynb#W4sZmlsZQ%3D%3D?line=36'>37</a>\u001b[0m \u001b[39m\"\"\" Return the sum of two matrices \"\"\"\u001b[39;00m\n\u001b[0;32m     <a href='vscode-notebook-cell:/d%3A/A_myDocuments/GU-DSAN/2_Spring1/ANLY555/myCodes/Module2/Discussion2.ipynb#W4sZmlsZQ%3D%3D?line=37'>38</a>\u001b[0m \u001b[39mif\u001b[39;00m \u001b[39mself\u001b[39m\u001b[39m.\u001b[39m\u001b[39m__len__\u001b[39m() \u001b[39m!=\u001b[39m other\u001b[39m.\u001b[39m\u001b[39m__len__\u001b[39m():       \u001b[39m# Compare the shape of matrices\u001b[39;00m\n\u001b[1;32m---> <a href='vscode-notebook-cell:/d%3A/A_myDocuments/GU-DSAN/2_Spring1/ANLY555/myCodes/Module2/Discussion2.ipynb#W4sZmlsZQ%3D%3D?line=38'>39</a>\u001b[0m     \u001b[39mraise\u001b[39;00m \u001b[39mValueError\u001b[39;00m(\u001b[39m'\u001b[39m\u001b[39mShape mismatch. Dimension should agree.\u001b[39m\u001b[39m'\u001b[39m)\n\u001b[0;32m     <a href='vscode-notebook-cell:/d%3A/A_myDocuments/GU-DSAN/2_Spring1/ANLY555/myCodes/Module2/Discussion2.ipynb#W4sZmlsZQ%3D%3D?line=39'>40</a>\u001b[0m result \u001b[39m=\u001b[39m [[\u001b[39m0\u001b[39m] \u001b[39m*\u001b[39m \u001b[39mself\u001b[39m\u001b[39m.\u001b[39m_ncols \u001b[39mfor\u001b[39;00m _ \u001b[39min\u001b[39;00m \u001b[39mrange\u001b[39m(\u001b[39mself\u001b[39m\u001b[39m.\u001b[39m_mrows)]        \u001b[39m# Initialize the zero matrix in the shape of (self._mrows, other._ncols) as the result \u001b[39;00m\n\u001b[0;32m     <a href='vscode-notebook-cell:/d%3A/A_myDocuments/GU-DSAN/2_Spring1/ANLY555/myCodes/Module2/Discussion2.ipynb#W4sZmlsZQ%3D%3D?line=40'>41</a>\u001b[0m \u001b[39mfor\u001b[39;00m m \u001b[39min\u001b[39;00m \u001b[39mrange\u001b[39m(\u001b[39mself\u001b[39m\u001b[39m.\u001b[39m_mrows):\n",
      "\u001b[1;31mValueError\u001b[0m: Shape mismatch. Dimension should agree."
     ]
    }
   ],
   "source": [
    "if __name__ == '__main__':\n",
    "    # Create two vectors\n",
    "    v1 = Vector(3)      # construct three-dimensional vector with filled value 0: <0, 0, 0, 0>\n",
    "    v1[0]=1             # <1, 0, 0>\n",
    "    v1[2]=2             # <1, 0, 2>\n",
    "    print('Vector v1:\\t', v1)   # print <1, 0, 0, 2>\n",
    "\n",
    "    v2 = Vector(4,fill_value=1)     # construct four-dimensional vector with filled value 1: <1, 1, 1, 1>\n",
    "    v2[0]=3                         # <3, 1, 1, 1>\n",
    "    v2[1]=0                         # <3, 0, 1, 1>\n",
    "    print('Vector v2:\\t', v2)       # print <3, 0, 1, 1>\n",
    "\n",
    "    # Calculate the outer product of the two vectors\n",
    "    outer_product = v1 ** v2        # (via __pow__)\n",
    "    print('The outer product =\\n', outer_product, sep='')\n",
    "    \n",
    "    # Calculate the sum of the two vectors\n",
    "    # Here an error should be thrown due to size mismatch\n",
    "    sum = v1+v2\n",
    "    print('v1 + v2 =\\t', sum)"
   ]
  },
  {
   "cell_type": "code",
   "execution_count": 6,
   "metadata": {},
   "outputs": [
    {
     "ename": "ValueError",
     "evalue": "Dimensions must agree.",
     "output_type": "error",
     "traceback": [
      "\u001b[1;31m---------------------------------------------------------------------------\u001b[0m",
      "\u001b[1;31mValueError\u001b[0m                                Traceback (most recent call last)",
      "\u001b[1;32md:\\A_myDocuments\\GU-DSAN\\2_Spring1\\ANLY555\\myCodes\\Module2\\Discussion2.ipynb Cell 10\u001b[0m in \u001b[0;36m<cell line: 3>\u001b[1;34m()\u001b[0m\n\u001b[0;32m      <a href='vscode-notebook-cell:/d%3A/A_myDocuments/GU-DSAN/2_Spring1/ANLY555/myCodes/Module2/Discussion2.ipynb#X11sZmlsZQ%3D%3D?line=0'>1</a>\u001b[0m \u001b[39m# Calculate the multiplication (inner product) of the two vectors\u001b[39;00m\n\u001b[0;32m      <a href='vscode-notebook-cell:/d%3A/A_myDocuments/GU-DSAN/2_Spring1/ANLY555/myCodes/Module2/Discussion2.ipynb#X11sZmlsZQ%3D%3D?line=1'>2</a>\u001b[0m \u001b[39m# Here an error should be thrown due to size mismatch\u001b[39;00m\n\u001b[1;32m----> <a href='vscode-notebook-cell:/d%3A/A_myDocuments/GU-DSAN/2_Spring1/ANLY555/myCodes/Module2/Discussion2.ipynb#X11sZmlsZQ%3D%3D?line=2'>3</a>\u001b[0m multip \u001b[39m=\u001b[39m v1\u001b[39m*\u001b[39;49mv2\n\u001b[0;32m      <a href='vscode-notebook-cell:/d%3A/A_myDocuments/GU-DSAN/2_Spring1/ANLY555/myCodes/Module2/Discussion2.ipynb#X11sZmlsZQ%3D%3D?line=3'>4</a>\u001b[0m \u001b[39mprint\u001b[39m(\u001b[39m'\u001b[39m\u001b[39mv1 * v2 =\u001b[39m\u001b[39m\\t\u001b[39;00m\u001b[39m'\u001b[39m, multip)\n",
      "\u001b[1;32md:\\A_myDocuments\\GU-DSAN\\2_Spring1\\ANLY555\\myCodes\\Module2\\Discussion2.ipynb Cell 10\u001b[0m in \u001b[0;36mVector.__mul__\u001b[1;34m(self, other)\u001b[0m\n\u001b[0;32m      <a href='vscode-notebook-cell:/d%3A/A_myDocuments/GU-DSAN/2_Spring1/ANLY555/myCodes/Module2/Discussion2.ipynb#X11sZmlsZQ%3D%3D?line=7'>8</a>\u001b[0m \u001b[39m\"\"\" Return multiplication (inner product) of two vectors. \u001b[39;00m\n\u001b[0;32m      <a href='vscode-notebook-cell:/d%3A/A_myDocuments/GU-DSAN/2_Spring1/ANLY555/myCodes/Module2/Discussion2.ipynb#X11sZmlsZQ%3D%3D?line=8'>9</a>\u001b[0m \u001b[39m    Override the inherited __mul__ in class Matrix\u001b[39;00m\n\u001b[0;32m     <a href='vscode-notebook-cell:/d%3A/A_myDocuments/GU-DSAN/2_Spring1/ANLY555/myCodes/Module2/Discussion2.ipynb#X11sZmlsZQ%3D%3D?line=9'>10</a>\u001b[0m \u001b[39m\"\"\"\u001b[39;00m\n\u001b[0;32m     <a href='vscode-notebook-cell:/d%3A/A_myDocuments/GU-DSAN/2_Spring1/ANLY555/myCodes/Module2/Discussion2.ipynb#X11sZmlsZQ%3D%3D?line=10'>11</a>\u001b[0m \u001b[39mif\u001b[39;00m \u001b[39mself\u001b[39m\u001b[39m.\u001b[39m\u001b[39m__len__\u001b[39m() \u001b[39m!=\u001b[39m other\u001b[39m.\u001b[39m\u001b[39m__len__\u001b[39m():\n\u001b[1;32m---> <a href='vscode-notebook-cell:/d%3A/A_myDocuments/GU-DSAN/2_Spring1/ANLY555/myCodes/Module2/Discussion2.ipynb#X11sZmlsZQ%3D%3D?line=11'>12</a>\u001b[0m     \u001b[39mraise\u001b[39;00m \u001b[39mValueError\u001b[39;00m(\u001b[39m'\u001b[39m\u001b[39mDimensions must agree.\u001b[39m\u001b[39m'\u001b[39m)\n\u001b[0;32m     <a href='vscode-notebook-cell:/d%3A/A_myDocuments/GU-DSAN/2_Spring1/ANLY555/myCodes/Module2/Discussion2.ipynb#X11sZmlsZQ%3D%3D?line=12'>13</a>\u001b[0m result \u001b[39m=\u001b[39m \u001b[39m0\u001b[39m\n\u001b[0;32m     <a href='vscode-notebook-cell:/d%3A/A_myDocuments/GU-DSAN/2_Spring1/ANLY555/myCodes/Module2/Discussion2.ipynb#X11sZmlsZQ%3D%3D?line=13'>14</a>\u001b[0m \u001b[39mfor\u001b[39;00m j \u001b[39min\u001b[39;00m \u001b[39mrange\u001b[39m(\u001b[39mself\u001b[39m\u001b[39m.\u001b[39m\u001b[39m__len__\u001b[39m()[\u001b[39m1\u001b[39m]):\n",
      "\u001b[1;31mValueError\u001b[0m: Dimensions must agree."
     ]
    }
   ],
   "source": [
    "# Calculate the multiplication (inner product) of the two vectors\n",
    "# Here an error should be thrown due to size mismatch\n",
    "multip = v1*v2\n",
    "print('v1 * v2 =\\t', multip)"
   ]
  },
  {
   "cell_type": "code",
   "execution_count": null,
   "metadata": {},
   "outputs": [],
   "source": []
  }
 ],
 "metadata": {
  "kernelspec": {
   "display_name": "base",
   "language": "python",
   "name": "python3"
  },
  "language_info": {
   "codemirror_mode": {
    "name": "ipython",
    "version": 3
   },
   "file_extension": ".py",
   "mimetype": "text/x-python",
   "name": "python",
   "nbconvert_exporter": "python",
   "pygments_lexer": "ipython3",
   "version": "3.9.12"
  },
  "orig_nbformat": 4,
  "vscode": {
   "interpreter": {
    "hash": "570885ef947762e696c52212a52f9e91aea3809ba67ce106e2f106db7fa95144"
   }
  }
 },
 "nbformat": 4,
 "nbformat_minor": 2
}
