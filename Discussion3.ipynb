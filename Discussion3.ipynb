{
 "cells": [
  {
   "cell_type": "code",
   "execution_count": 1,
   "metadata": {},
   "outputs": [],
   "source": [
    "import random\n",
    "\n",
    "def findMedian(n):\n",
    "    # Randomly generate n floating point values between 0 and 100\n",
    "    number_list = []                                       # STEP COUNT: Worst:1; Best:1\n",
    "    for _ in range(n):                                     # STEP COUNT: Worst:n+1; Best:n+1\n",
    "        number_list.append(random.uniform(0,100))          # STEP COUNT: Worst:n; Best:n\n",
    "\n",
    "    # Sort the number list in ascending order\n",
    "    for ind in range(n):                                   # STEP COUNT: Worst:n+1; Best:n+1\n",
    "        min_index = ind                                    # STEP COUNT: Worst:n; Best:n\n",
    "        for j in range(ind + 1, n):                        # STEP COUNT: Worst:[(n-1)+1]+[(n-2)+1]+...+3+2+1 = n(n+1)/2; Best:n(n+1)/2\n",
    "            # select the minimum element from all the elements after number_list[ind]\n",
    "            if number_list[j] < number_list[min_index]:    # STEP COUNT: Worst:(n-1)+(n-2)+...+3+2+1 = n(n-1)/2; Best:n(n-1)/2\n",
    "                min_index = j                              # STEP COUNT: Worst:(n-1)+(n-2)+...+3+2+1 = n(n-1)/2; Best:0\n",
    "        # swapping the elements\n",
    "        (number_list[ind], number_list[min_index]) = (number_list[min_index], number_list[ind])  # STEP COUNT: Worst:n; Best:n\n",
    "\n",
    "    print(number_list)\n",
    "    # Find the median\n",
    "    if n%2==0:   # even number                                       # STEP COUNT: Worst:1; Best:1\n",
    "        median = (number_list[int(n/2)]+number_list[int(n/2-1)])/2   # STEP COUNT: Worst:1; Best:1\n",
    "    else:        # odd number\n",
    "        median = number_list[int((n-1)/2)]                           # STEP COUNT: Worst:1; Best:1\n",
    "\n",
    "    return median"
   ]
  },
  {
   "cell_type": "code",
   "execution_count": 2,
   "metadata": {},
   "outputs": [
    {
     "name": "stdout",
     "output_type": "stream",
     "text": [
      "-----------------------------\n",
      "[10.293212197447776, 15.884918968722218, 39.519123902509456, 50.56568924549878, 51.69836645161426, 53.13057620649284, 65.48005446185647, 66.6728600603822, 67.59124902799701, 77.56068388514639, 90.28076219596484]\n",
      "53.13057620649284\n",
      "-----------------------------\n",
      "[9.993482301880242, 26.536265992501416, 32.51800456023577, 47.76389204202618, 53.87069052657842, 59.816220523379, 65.89728171941677, 77.63460633051251, 89.5561669744507, 95.70269921091545]\n",
      "56.84345552497871\n"
     ]
    }
   ],
   "source": [
    "print(\"-----------------------------\")\n",
    "print(findMedian(11))\n",
    "print(\"-----------------------------\")\n",
    "print(findMedian(10))"
   ]
  },
  {
   "attachments": {},
   "cell_type": "markdown",
   "metadata": {},
   "source": [
    "Time complexity:\n",
    "$$ \n",
    "T(n)=\n",
    "\\begin{cases}\n",
    "\\frac{3}{2}n^2+\\frac{9}{2}n+6, \\,\\,\\text{worst case}\\\\\n",
    "n^2+5n+6, \\,\\,\\text{best case}\n",
    "\\end{cases}\\\\\n",
    "T(n)\\,\\,\\text is\\,\\,O(n^2)\n",
    "$$\n",
    "\n",
    "Space complexity:\n",
    "\n",
    "- In 'number_list' the size of list is \"n\" and each element will take 4 bytes so the space taken by it will be 'n*4' bytes\n",
    "- Variables including 'n', 'ind', 'min_index','j', and 'median' are used they will also take 4 bytes of space respectively.\n",
    "- Function call, initialisation of for loop and print function these all comes under the auxiliary space and lets assume these all will take combinely 4 bytes of space. [Reference: https://www.scaler.com/topics/data-structures/space-complexity-in-data-structure/](https://www.scaler.com/topics/data-structures/space-complexity-in-data-structure/)\n",
    "  \n",
    "$ S(n) = 4n+24,\\,\\,\\,\\,\\,\\,S(n)\\,\\,is\\,\\,O(n)  $ "
   ]
  }
 ],
 "metadata": {
  "kernelspec": {
   "display_name": "base",
   "language": "python",
   "name": "python3"
  },
  "language_info": {
   "codemirror_mode": {
    "name": "ipython",
    "version": 3
   },
   "file_extension": ".py",
   "mimetype": "text/x-python",
   "name": "python",
   "nbconvert_exporter": "python",
   "pygments_lexer": "ipython3",
   "version": "3.9.12"
  },
  "orig_nbformat": 4,
  "vscode": {
   "interpreter": {
    "hash": "570885ef947762e696c52212a52f9e91aea3809ba67ce106e2f106db7fa95144"
   }
  }
 },
 "nbformat": 4,
 "nbformat_minor": 2
}
