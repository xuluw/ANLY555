{
 "cells": [
  {
   "attachments": {},
   "cell_type": "markdown",
   "metadata": {},
   "source": [
    "## 1. Define class sparseMatrix"
   ]
  },
  {
   "cell_type": "code",
   "execution_count": 71,
   "metadata": {},
   "outputs": [],
   "source": [
    "class sparseMatrix():\n",
    "    def __init__(self,nrows,ncols):\n",
    "        self.nrows=nrows  # the number of rows of sparse matrix\n",
    "        self.ncols=ncols  # the number of columns of sparse matrix\n",
    "        self.values=[]    # a list that is used to store 3-tuples: (row, col, value) \n",
    "    \n",
    "\n",
    "    def __len__(self):\n",
    "        \"\"\" Return the dimension of the matrix in the form of a tuple\"\"\"\n",
    "        return (self.nrows, self.ncols)\n",
    "    \n",
    "\n",
    "    def __str__(self):\n",
    "        return str(self.values)\n",
    "    \n",
    "\n",
    "    def __setitem__(self, index, val):\n",
    "        \"\"\" index: Parameter is accepted in the form of tuple or int. If tuple, index[0] -> the index of row;  index[1] -> the index of column\n",
    "            val: the given value\n",
    "        \"\"\"\n",
    "        \n",
    "        if isinstance(index, int):          # If it is a sparse vector, the index is an int.\n",
    "            self.values.append((0,index,val))\n",
    "        elif isinstance(index, tuple):      # If it is a sparse matrix, the index is a tuple.\n",
    "            if (index[0]>self.nrows-1) | (index[1]>self.ncols-1):\n",
    "                raise IndexError('List index out of range')\n",
    "            self.values.append((index[0],index[1],val))\n",
    "\n",
    "\n",
    "    def __add__(self,other):\n",
    "        \"\"\" Return the sum of two matrices \"\"\"\n",
    "\n",
    "        if self.__len__() != other.__len__():               # Compare the shape of matrices\n",
    "            raise ValueError('Shape mismatch. Dimension should agree.')\n",
    "        \n",
    "        else:\n",
    "            result=[]\n",
    "            self_ind=[temp[0:2] for temp in self.values]    # a list of tuples in terms of all indexes of self.values: (row,col)\n",
    "            other_ind=[temp[0:2] for temp in other.values]  # a list of tuples in terms of all indexes of other.values: (row,col)\n",
    "            \n",
    "            for i in range(len(self.values)):               # For each item in self.values, check all items in self.values for match.\n",
    "                if self_ind[i] in other_ind:                # If 'other' has a term at same index as self.values\n",
    "                    for j in range(len(other.values)):          \n",
    "                        if (self.values[i][0]==other.values[j][0]) & (self.values[i][1]==other.values[j][1]):\n",
    "                            added_tuple=(self.values[i][0], self.values[i][1], self.values[i][2]+other.values[j][2])\n",
    "                \n",
    "                else:\n",
    "                    added_tuple=self.values[i]\n",
    "\n",
    "                if added_tuple not in result:               # Ensure there is no duplicate item in the result list\n",
    "                    result.append(added_tuple)\n",
    "\n",
    "\n",
    "            for j in range(len(other.values)):              # For each item in other.values, check all items in other.values for match.\n",
    "                if other_ind[j] not in self_ind:            # If 'self' has a term at same index as other.values\n",
    "                    if other.values[j] not in result:       # Ensure there is no duplicate item in the result list\n",
    "                        result.append(other.values[j])\n",
    "        return result\n"
   ]
  },
  {
   "attachments": {},
   "cell_type": "markdown",
   "metadata": {},
   "source": [
    "## 2. Test addition operation"
   ]
  },
  {
   "cell_type": "code",
   "execution_count": 72,
   "metadata": {},
   "outputs": [
    {
     "name": "stdout",
     "output_type": "stream",
     "text": [
      "sparse_matrix_1= [(0, 2, 9), (2, 3, 2), (2, 4, 1)]\n",
      "sparse_matrix_2= [(0, 1, 3), (2, 4, 2)]\n",
      "addition= [(0, 2, 9), (2, 3, 2), (2, 4, 3), (0, 1, 3)]\n"
     ]
    }
   ],
   "source": [
    "sparse_matrix_1=sparseMatrix(5,6)\n",
    "sparse_matrix_1[0,2]=9\n",
    "sparse_matrix_1[2,3]=2\n",
    "sparse_matrix_1[2,4]=1\n",
    "print(\"sparse_matrix_1=\",sparse_matrix_1)\n",
    "\n",
    "sparse_matrix_2=sparseMatrix(5,6)\n",
    "sparse_matrix_2[0,1]=3\n",
    "sparse_matrix_2[2,4]=2\n",
    "print(\"sparse_matrix_2=\",sparse_matrix_2)\n",
    "\n",
    "print(\"addition=\",sparse_matrix_1+sparse_matrix_2)"
   ]
  },
  {
   "attachments": {},
   "cell_type": "markdown",
   "metadata": {},
   "source": [
    "## 3. Time complexity and space complexity for `__add__` method"
   ]
  },
  {
   "attachments": {},
   "cell_type": "markdown",
   "metadata": {},
   "source": [
    "| Line number | Step count (best) | Step count (worst) |  Space count  |\n",
    "|:-----------:|:-----------------:|:------------------:|:-------------:|\n",
    "|      33     |         1         |          1         |       5       |\n",
    "|      34     |         1         |          1         |               |\n",
    "|      37     |         1         |          1         |       1       |\n",
    "|      38     |         a         |          a         |       2a      |\n",
    "|      39     |         b         |          b         |       2b      |\n",
    "|      41     |         a         |          a         |       1       |\n",
    "|      42     |         a         |          a         |       1       |\n",
    "|      43     |         0         |         ab         |       1       |\n",
    "|      44     |         0         |         ab         |       3       |\n",
    "|      45     |         0         |         ab         |       3       |\n",
    "|      48     |         a         |          0         |               |\n",
    "|      50     |         a         |          a         |               |\n",
    "|      51     |         a         |          a         |               |\n",
    "|      54     |         b         |          b         |               |\n",
    "|      55     |         b         |          b         |               |\n",
    "|      56     |         b         |          0         |               |\n",
    "|      57     |         b         |          0         |               |\n",
    "|     Sum     |    T(n)=6a+5b+3   |  T(n)=3ab+5a+3b+3  | S(n)=2a+2b+15 |"
   ]
  },
  {
   "attachments": {},
   "cell_type": "markdown",
   "metadata": {},
   "source": [
    "- Time complexity\n",
    "    - Best case: $T(n)$ is $O(a+b)$, when all non-zero values of the two matrices are not in the same position.\n",
    "    - Worst case: $T(n)$ is $O(ab)$, when all non-zero values of the two matrices are in the same position.\n",
    "- Space complexity\n",
    "    $S(n)$ is $O(a+b)$"
   ]
  },
  {
   "cell_type": "markdown",
   "metadata": {},
   "source": []
  }
 ],
 "metadata": {
  "kernelspec": {
   "display_name": "base",
   "language": "python",
   "name": "python3"
  },
  "language_info": {
   "codemirror_mode": {
    "name": "ipython",
    "version": 3
   },
   "file_extension": ".py",
   "mimetype": "text/x-python",
   "name": "python",
   "nbconvert_exporter": "python",
   "pygments_lexer": "ipython3",
   "version": "3.9.12"
  },
  "orig_nbformat": 4
 },
 "nbformat": 4,
 "nbformat_minor": 2
}
